{
 "cells": [
  {
   "cell_type": "markdown",
   "metadata": {},
   "source": [
    "# Capstone Three"
   ]
  },
  {
   "cell_type": "code",
   "execution_count": 34,
   "metadata": {},
   "outputs": [],
   "source": [
    "import pandas as pd\n",
    "import seaborn as sns\n",
    "import os\n",
    "import time\n",
    "import matplotlib.pyplot as plt\n",
    "import numpy as np\n",
    "\n",
    "from keras.preprocessing.image import load_img\n",
    "from keras.preprocessing.image import img_to_array\n",
    "from tensorflow.keras.preprocessing import image"
   ]
  },
  {
   "cell_type": "markdown",
   "metadata": {},
   "source": [
    "## Import Dataset "
   ]
  },
  {
   "cell_type": "code",
   "execution_count": 35,
   "metadata": {},
   "outputs": [],
   "source": [
    "# load data\n",
    "data_dir = \"archive/\"\n",
    "label = [each for each in os.listdir(os.path.expanduser(data_dir)) if not each.startswith('.')]"
   ]
  },
  {
   "cell_type": "code",
   "execution_count": 36,
   "metadata": {},
   "outputs": [
    {
     "data": {
      "text/plain": [
       "['non-COVID', 'COVID']"
      ]
     },
     "execution_count": 36,
     "metadata": {},
     "output_type": "execute_result"
    }
   ],
   "source": [
    "label"
   ]
  },
  {
   "cell_type": "code",
   "execution_count": 37,
   "metadata": {},
   "outputs": [],
   "source": [
    "images = []\n",
    "batch = []\n",
    "labels = []\n",
    "j = 0\n",
    "\n",
    "for each in label:  \n",
    "  class_path = os.path.expanduser(data_dir + each)\n",
    "  files = os.listdir(class_path)\n",
    "\n",
    "  for file in files:  # Loop for the imgs inside the folders\n",
    "    img = image.load_img(os.path.join(class_path, file), target_size=(200, 200))\n",
    "    x = image.img_to_array(img)\n",
    "    batch.append(x)\n",
    "    labels.append(str(j))\n",
    "  j += 1\n",
    "\n",
    "\n",
    "batch = np.array(batch) \n",
    "labels = np.array(labels)"
   ]
  },
  {
   "cell_type": "code",
   "execution_count": 32,
   "metadata": {},
   "outputs": [
    {
     "name": "stdout",
     "output_type": "stream",
     "text": [
      "(2481, 224, 224, 3)\n"
     ]
    }
   ],
   "source": [
    "#Check the shape of X\n",
    "\n",
    "print(np_batch.shape)\n",
    "\n",
    "#remove the second axis\n",
    "\n",
    "batch = np.squeeze(batch,axis=1)\n",
    "\n",
    "#print(np_batch.shape)\n",
    "#This is correct"
   ]
  },
  {
   "cell_type": "code",
   "execution_count": 33,
   "metadata": {},
   "outputs": [
    {
     "name": "stdout",
     "output_type": "stream",
     "text": [
      "(2481,)\n"
     ]
    }
   ],
   "source": [
    "#Check the shape of y\n",
    "print(labels.shape)"
   ]
  }
 ],
 "metadata": {
  "kernelspec": {
   "display_name": "Python 3",
   "language": "python",
   "name": "python3"
  },
  "language_info": {
   "codemirror_mode": {
    "name": "ipython",
    "version": 3
   },
   "file_extension": ".py",
   "mimetype": "text/x-python",
   "name": "python",
   "nbconvert_exporter": "python",
   "pygments_lexer": "ipython3",
   "version": "3.7.6"
  }
 },
 "nbformat": 4,
 "nbformat_minor": 4
}
